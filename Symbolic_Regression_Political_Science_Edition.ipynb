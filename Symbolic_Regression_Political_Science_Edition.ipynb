{
  "cells": [
    {
      "cell_type": "markdown",
      "metadata": {
        "id": "view-in-github",
        "colab_type": "text"
      },
      "source": [
        "<a href=\"https://colab.research.google.com/github/DanBaissa/symbolic_regression_polisci/blob/main/Symbolic_Regression_Political_Science_Edition.ipynb\" target=\"_parent\"><img src=\"https://colab.research.google.com/assets/colab-badge.svg\" alt=\"Open In Colab\"/></a>"
      ]
    },
    {
      "cell_type": "markdown",
      "id": "db2545e0",
      "metadata": {
        "id": "db2545e0"
      },
      "source": [
        "# Symbolic Regression in Political Science: Classic Models\n",
        "\n",
        "---\n",
        "\n",
        "## Overview\n",
        "\n",
        "This educational notebook demonstrates how **symbolic regression**—a machine learning technique that automatically discovers mathematical equations—can help political scientists and social scientists uncover the underlying functional relationships in data. Instead of pre-selecting a model form (like linear or quadratic), symbolic regression explores a huge space of possible equations and finds the one(s) that best fit the observed data. This makes it especially useful for:\n",
        "\n",
        "- Detecting non-linearities, thresholds, and cycles that traditional regressions may miss.\n",
        "- Revealing interaction effects and complex dynamics.\n",
        "- Providing **interpretable formulas** instead of black-box predictions.\n",
        "\n",
        "The notebook combines classic social science and political economy data-generating processes (linear, quadratic, interaction, cyclical) and demonstrates how symbolic regression can discover these relationships using two tools:\n",
        "\n",
        "- Python’s `gplearn` (genetic programming)\n",
        "- Julia’s `PySR` (highly efficient, often simpler equations)\n",
        "\n",
        "For each dataset, you’ll see:\n",
        "\n",
        "- The context and political science analogy\n",
        "- The discovered formula (compared to the “ground truth”)\n",
        "- The test-set fit (R²)\n",
        "- Example paper-style writeups for interpreting your findings"
      ]
    },
    {
      "cell_type": "markdown",
      "id": "93acde21",
      "metadata": {
        "id": "93acde21"
      },
      "source": [
        "## 1. Installation and Imports"
      ]
    },
    {
      "cell_type": "code",
      "execution_count": null,
      "id": "c51d9067",
      "metadata": {
        "id": "c51d9067"
      },
      "outputs": [],
      "source": [
        "!pip install gplearn pysr julia\n",
        "import julia\n",
        "julia.install()\n",
        "\n",
        "import pandas as pd\n",
        "import numpy as np\n",
        "import matplotlib.pyplot as plt\n",
        "from gplearn.genetic import SymbolicRegressor\n",
        "from sklearn.model_selection import train_test_split\n",
        "from sklearn.metrics import mean_squared_error, r2_score\n",
        "from sklearn.preprocessing import OneHotEncoder"
      ]
    },
    {
      "cell_type": "markdown",
      "id": "ea3b22b9",
      "metadata": {
        "id": "ea3b22b9"
      },
      "source": [
        "## 2. Data Generation: Classic Relationships"
      ]
    },
    {
      "cell_type": "code",
      "execution_count": null,
      "id": "0ad11ed6",
      "metadata": {
        "id": "0ad11ed6"
      },
      "outputs": [],
      "source": [
        "rng = np.random.default_rng(42)\n",
        "X = np.linspace(-3, 3, 200).reshape(-1, 1)\n",
        "\n",
        "# Classic models\n",
        "y_linear = 2.5 * X.ravel() + 3 + rng.normal(0, 0.1, X.shape[0])\n",
        "y_quadratic = -1.2 * (X.ravel() ** 2) + 2 * X.ravel() + 1 + rng.normal(0, 0.1, X.shape[0])\n",
        "X2 = rng.uniform(-3, 3, X.shape[0])\n",
        "y_interaction = 1.5 * X.ravel() * X2 + 0.5 * X2 + rng.normal(0, 0.1, X.shape[0])\n",
        "y_sinusoidal = 1.8 * np.sin(1.5 * X.ravel()) + 0.2 * X.ravel() + rng.normal(0, 0.1, X.shape[0])\n",
        "\n",
        "datasets = [\n",
        "    (\"Linear\", X, y_linear, None),\n",
        "    (\"Quadratic\", X, y_quadratic, None),\n",
        "    (\"Interaction\", np.column_stack([X.ravel(), X2]), y_interaction, X2),\n",
        "    (\"Sinusoidal\", X, y_sinusoidal, None)\n",
        "]"
      ]
    },
    {
      "cell_type": "markdown",
      "id": "283a8b9f",
      "metadata": {
        "id": "283a8b9f"
      },
      "source": [
        "## 3. Symbolic Regression with Python (`gplearn`)"
      ]
    },
    {
      "cell_type": "code",
      "execution_count": null,
      "id": "a6c1c9b9",
      "metadata": {
        "id": "a6c1c9b9"
      },
      "outputs": [],
      "source": [
        "gplearn_results = []\n",
        "\n",
        "for name, X_data, y_data, _ in datasets:\n",
        "    print(f\"\\n=== {name} (Python/gplearn) ===\")\n",
        "    X_train, X_test, y_train, y_test = train_test_split(X_data, y_data, test_size=0.3, random_state=42)\n",
        "    py_est = SymbolicRegressor(\n",
        "        population_size=1000, generations=20, stopping_criteria=0.01,\n",
        "        p_crossover=0.7, p_subtree_mutation=0.1, p_hoist_mutation=0.05,\n",
        "        p_point_mutation=0.1, max_samples=0.9, verbose=0,\n",
        "        parsimony_coefficient=0.01, random_state=0\n",
        "    )\n",
        "    py_est.fit(X_train, y_train)\n",
        "    y_pred_py = py_est.predict(X_test)\n",
        "    py_r2 = r2_score(y_test, y_pred_py)\n",
        "    py_eq = str(py_est._program)\n",
        "    print(f\"Discovered equation (Python): {py_eq}\")\n",
        "    print(f\"Test set R^2: {py_r2:.3f}\")\n",
        "    gplearn_results.append({'name': name, 'eq': py_eq, 'r2': py_r2})"
      ]
    },
    {
      "cell_type": "markdown",
      "id": "a3613b47",
      "metadata": {
        "id": "a3613b47"
      },
      "source": [
        "## 4. Symbolic Regression: Democracy and Redistribution (Applied Example)"
      ]
    },
    {
      "cell_type": "markdown",
      "id": "f4d15476",
      "metadata": {
        "id": "f4d15476"
      },
      "source": [
        "### A. Merge the Data"
      ]
    },
    {
      "cell_type": "code",
      "execution_count": null,
      "id": "3e883ac6",
      "metadata": {
        "id": "3e883ac6"
      },
      "outputs": [],
      "source": [
        "df_wb = pd.read_csv(\"world_bank.csv\")\n",
        "df_polity = pd.read_csv(\"polity.csv\")\n",
        "df = pd.merge(df_wb, df_polity, left_on=['country_code','year'], right_on=['scode','year'], how='inner')\n",
        "df = df.dropna(subset=['inf_mort', 'polity', 'gdp_per_capita', 'year', 'pop_density'])"
      ]
    },
    {
      "cell_type": "markdown",
      "id": "7f95be52",
      "metadata": {
        "id": "7f95be52"
      },
      "source": [
        "### B. Symbolic Regression: Does Democracy Predict Infant Mortality?"
      ]
    },
    {
      "cell_type": "code",
      "execution_count": null,
      "id": "3c2665ea",
      "metadata": {
        "id": "3c2665ea"
      },
      "outputs": [],
      "source": [
        "X = df[['polity']].values\n",
        "y = df['inf_mort'].values\n",
        "\n",
        "X_train, X_test, y_train, y_test = train_test_split(X, y, test_size=0.3, random_state=1)\n",
        "\n",
        "sr = SymbolicRegressor(population_size=500, generations=10, stopping_criteria=0.01,\n",
        "                       p_crossover=0.7, p_subtree_mutation=0.1, p_hoist_mutation=0.05,\n",
        "                       p_point_mutation=0.1, max_samples=0.9, verbose=1,\n",
        "                       parsimony_coefficient=0.01, random_state=0)\n",
        "sr.fit(X_train, y_train)\n",
        "\n",
        "print(\"Discovered equation:\", sr._program)\n",
        "y_pred = sr.predict(X_test)\n",
        "print(\"Test set R^2:\", r2_score(y_test, y_pred))"
      ]
    },
    {
      "cell_type": "markdown",
      "id": "2ad5771e",
      "metadata": {
        "id": "2ad5771e"
      },
      "source": [
        "### C. Symbolic Regression: All Controls"
      ]
    },
    {
      "cell_type": "code",
      "execution_count": null,
      "id": "30d0b278",
      "metadata": {
        "id": "30d0b278"
      },
      "outputs": [],
      "source": [
        "X_ctrl = df[['polity', 'gdp_per_capita', 'year', 'pop_density']].values\n",
        "y_ctrl = df['inf_mort'].values\n",
        "\n",
        "Xc_train, Xc_test, yc_train, yc_test = train_test_split(X_ctrl, y_ctrl, test_size=0.3, random_state=1)\n",
        "\n",
        "sr_ctrl = SymbolicRegressor(population_size=500, generations=10, stopping_criteria=0.01,\n",
        "                            p_crossover=0.7, p_subtree_mutation=0.1, p_hoist_mutation=0.05,\n",
        "                            p_point_mutation=0.1, max_samples=0.9, verbose=1,\n",
        "                            parsimony_coefficient=0.01, random_state=0)\n",
        "sr_ctrl.fit(Xc_train, yc_train)\n",
        "\n",
        "print(\"Discovered equation (with controls):\", sr_ctrl._program)\n",
        "yc_pred = sr_ctrl.predict(Xc_test)\n",
        "print(\"Test set R^2:\", r2_score(yc_test, yc_pred))"
      ]
    },
    {
      "cell_type": "markdown",
      "id": "7b284f65",
      "metadata": {
        "id": "7b284f65"
      },
      "source": [
        "### D. Symbolic Regression: Country Fixed Effects (Optional)"
      ]
    },
    {
      "cell_type": "code",
      "execution_count": null,
      "id": "f92de0b7",
      "metadata": {
        "id": "f92de0b7"
      },
      "outputs": [],
      "source": [
        "N = 8\n",
        "country_counts = df['country_name'].value_counts()\n",
        "top_countries = country_counts.index[:N]\n",
        "df_fe = df[df['country_name'].isin(top_countries)]\n",
        "\n",
        "enc = OneHotEncoder(drop='first', sparse=False)\n",
        "country_dummies = enc.fit_transform(df_fe[['country_name']])\n",
        "\n",
        "X_fe = np.concatenate([df_fe[['polity', 'gdp_per_capita', 'year', 'pop_density']].values, country_dummies], axis=1)\n",
        "y_fe = df_fe['inf_mort'].values\n",
        "\n",
        "Xfe_train, Xfe_test, yfe_train, yfe_test = train_test_split(X_fe, y_fe, test_size=0.3, random_state=1)\n",
        "\n",
        "sr_fe = SymbolicRegressor(population_size=300, generations=6, stopping_criteria=0.05,\n",
        "                          p_crossover=0.7, p_subtree_mutation=0.1, p_hoist_mutation=0.05,\n",
        "                          p_point_mutation=0.1, max_samples=0.9, verbose=1,\n",
        "                          parsimony_coefficient=0.01, random_state=0)\n",
        "sr_fe.fit(Xfe_train, yfe_train)\n",
        "\n",
        "print(\"Discovered equation (w/ country FE dummies):\", sr_fe._program)\n",
        "yfe_pred = sr_fe.predict(Xfe_test)\n",
        "print(\"Test set R^2:\", r2_score(yfe_test, yfe_pred))"
      ]
    }
  ],
  "metadata": {
    "colab": {
      "provenance": [],
      "include_colab_link": true
    }
  },
  "nbformat": 4,
  "nbformat_minor": 5
}